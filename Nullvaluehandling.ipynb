{
 "cells": [
  {
   "cell_type": "code",
   "execution_count": 11,
   "id": "c21bd75b-59bf-412f-9401-f2a3cbd5b3eb",
   "metadata": {},
   "outputs": [
    {
     "name": "stdout",
     "output_type": "stream",
     "text": [
      "Requirement already satisfied: scikit-learn in c:\\users\\asus\\anaconda3\\lib\\site-packages (1.2.2)\n",
      "Requirement already satisfied: numpy>=1.17.3 in c:\\users\\asus\\anaconda3\\lib\\site-packages (from scikit-learn) (1.26.4)\n",
      "Requirement already satisfied: scipy>=1.3.2 in c:\\users\\asus\\anaconda3\\lib\\site-packages (from scikit-learn) (1.11.4)\n",
      "Requirement already satisfied: joblib>=1.1.1 in c:\\users\\asus\\anaconda3\\lib\\site-packages (from scikit-learn) (1.2.0)\n",
      "Requirement already satisfied: threadpoolctl>=2.0.0 in c:\\users\\asus\\anaconda3\\lib\\site-packages (from scikit-learn) (2.2.0)\n"
     ]
    }
   ],
   "source": [
    "!pip install scikit-learn"
   ]
  },
  {
   "cell_type": "code",
   "execution_count": 25,
   "id": "0e19bc96-ee80-4c81-bcd0-c962d7c8e2f4",
   "metadata": {},
   "outputs": [],
   "source": [
    "import pandas as pd\n",
    "import numpy as np\n",
    "from sklearn.impute import SimpleImputer"
   ]
  },
  {
   "cell_type": "code",
   "execution_count": 117,
   "id": "66460859-4748-4b79-bddf-203849a98162",
   "metadata": {},
   "outputs": [],
   "source": [
    "df=pd.read_csv(\"C:/Users/Asus/Downloads/Data.csv\")"
   ]
  },
  {
   "cell_type": "code",
   "execution_count": 119,
   "id": "42f0e7cc-ed95-4dd4-8eae-242296b8be77",
   "metadata": {},
   "outputs": [
    {
     "name": "stdout",
     "output_type": "stream",
     "text": [
      "   Country   Age   Salary Purchased\n",
      "0   France  44.0  72000.0       Yes\n",
      "1    Spain  27.0  48000.0       Yes\n",
      "2      NaN  30.0  54000.0       NaN\n",
      "3    Spain  38.0  61000.0        No\n",
      "4  Germany  40.0      NaN       Yes\n",
      "5   France  35.0  58000.0       Yes\n",
      "6    Spain   NaN  52000.0        No\n",
      "7   France  48.0  79000.0       Yes\n",
      "8  Germany  50.0  83000.0        No\n",
      "9   France  37.0  67000.0       Yes\n"
     ]
    }
   ],
   "source": [
    "print(df)"
   ]
  },
  {
   "cell_type": "code",
   "execution_count": 83,
   "id": "21027458-503a-4471-a672-9e142216b37f",
   "metadata": {},
   "outputs": [],
   "source": [
    "imputer=SimpleImputer(missing_values=np.nan,strategy='most_frequent')\n",
    "imputer.fit(df.iloc[:,1:3].values)\n",
    "x=imputer.transform(df.iloc[:,1:3].values)\n",
    "df.iloc[:,1:3]=x"
   ]
  },
  {
   "cell_type": "code",
   "execution_count": 93,
   "id": "43e574eb-586b-481b-ad95-c9cb444d2721",
   "metadata": {},
   "outputs": [],
   "source": [
    "imputer=SimpleImputer(missing_values=np.nan,strategy='most_frequent')\n",
    "imputer.fit(df.iloc[:,2:3].values)\n",
    "df.iloc[:,2:3]=imputer.transform(df.iloc[:,2:3].values)\n"
   ]
  },
  {
   "cell_type": "code",
   "execution_count": null,
   "id": "8109624b-e6f9-4d83-a6e8-c18a415264fe",
   "metadata": {},
   "outputs": [],
   "source": [
    "imputer=SimpleImputer(missing_values=np.nan,strategy='most_frequent')\n",
    "imputer.fit(df.iloc[:,:1].values)\n",
    "df.iloc[:,:1]=imputer.transform(df.iloc[:,:1].values)\n"
   ]
  },
  {
   "cell_type": "code",
   "execution_count": 101,
   "id": "618c7ac2-8bfe-4347-99ce-057f74f47101",
   "metadata": {},
   "outputs": [],
   "source": [
    "imputer=SimpleImputer(missing_values=np.nan,strategy='most_frequent')\n",
    "imputer.fit(df.iloc[:,3:].values)\n",
    "df.iloc[:,3:]=imputer.transform(df.iloc[:,3:].values)\n"
   ]
  },
  {
   "cell_type": "code",
   "execution_count": 125,
   "id": "a2d3ee9d-e1ff-4f6e-89b7-ea535bbef68f",
   "metadata": {},
   "outputs": [],
   "source": [
    "imputer=SimpleImputer(missing_values=np.nan,strategy='most_frequent')\n",
    "imputer.fit(df)\n",
    "df=imputer.transform(df)\n"
   ]
  },
  {
   "cell_type": "code",
   "execution_count": 127,
   "id": "e1acc5dc-4979-4173-8c1e-cfcaa5db101d",
   "metadata": {},
   "outputs": [
    {
     "name": "stdout",
     "output_type": "stream",
     "text": [
      "[['France' 44.0 72000.0 'Yes']\n",
      " ['Spain' 27.0 48000.0 'Yes']\n",
      " ['France' 30.0 54000.0 'Yes']\n",
      " ['Spain' 38.0 61000.0 'No']\n",
      " ['Germany' 40.0 48000.0 'Yes']\n",
      " ['France' 35.0 58000.0 'Yes']\n",
      " ['Spain' 27.0 52000.0 'No']\n",
      " ['France' 48.0 79000.0 'Yes']\n",
      " ['Germany' 50.0 83000.0 'No']\n",
      " ['France' 37.0 67000.0 'Yes']]\n"
     ]
    }
   ],
   "source": [
    "print(df)"
   ]
  },
  {
   "cell_type": "code",
   "execution_count": 97,
   "id": "4c970aa9-465e-4bbb-a1e6-689711bec51d",
   "metadata": {},
   "outputs": [],
   "source": []
  },
  {
   "cell_type": "code",
   "execution_count": null,
   "id": "ecd58a93-be87-4076-8e7f-0434d6a992e8",
   "metadata": {},
   "outputs": [],
   "source": []
  },
  {
   "cell_type": "code",
   "execution_count": null,
   "id": "8d10cc5e-d583-45a4-a385-ef8c2c4142a1",
   "metadata": {},
   "outputs": [],
   "source": []
  }
 ],
 "metadata": {
  "kernelspec": {
   "display_name": "Python 3 (ipykernel)",
   "language": "python",
   "name": "python3"
  },
  "language_info": {
   "codemirror_mode": {
    "name": "ipython",
    "version": 3
   },
   "file_extension": ".py",
   "mimetype": "text/x-python",
   "name": "python",
   "nbconvert_exporter": "python",
   "pygments_lexer": "ipython3",
   "version": "3.11.7"
  }
 },
 "nbformat": 4,
 "nbformat_minor": 5
}
