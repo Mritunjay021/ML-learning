{
 "cells": [
  {
   "cell_type": "code",
   "execution_count": 108,
   "id": "ace86303-eef0-414b-8a13-868b4623e29d",
   "metadata": {},
   "outputs": [
    {
     "name": "stdout",
     "output_type": "stream",
     "text": [
      "Requirement already satisfied: plotly in c:\\users\\asus\\anaconda3\\lib\\site-packages (5.9.0)\n",
      "Requirement already satisfied: tenacity>=6.2.0 in c:\\users\\asus\\anaconda3\\lib\\site-packages (from plotly) (8.2.2)\n"
     ]
    }
   ],
   "source": [
    "!pip install plotly"
   ]
  },
  {
   "cell_type": "code",
   "execution_count": 156,
   "id": "8d513552-e49a-474a-90de-4ae763f34e35",
   "metadata": {},
   "outputs": [],
   "source": [
    "import pandas as pd\n",
    "import seaborn as sns\n",
    "import numpy as np\n",
    "import plotly.express as px\n",
    "import plotly.offline as pyo\n",
    "import os"
   ]
  },
  {
   "cell_type": "code",
   "execution_count": 162,
   "id": "36785410-f8d1-4c09-9317-d351b5ca58f0",
   "metadata": {},
   "outputs": [],
   "source": [
    "df=pd.read_csv(\"gdp.csv\")"
   ]
  },
  {
   "cell_type": "markdown",
   "id": "bb66eecf-bfea-479f-99b2-95fe1722ff4e",
   "metadata": {},
   "source": [
    "## Walkthrough"
   ]
  },
  {
   "cell_type": "code",
   "execution_count": 165,
   "id": "c84581e8-8af0-4e18-ac84-1b87e1b68439",
   "metadata": {},
   "outputs": [
    {
     "data": {
      "text/html": [
       "<div>\n",
       "<style scoped>\n",
       "    .dataframe tbody tr th:only-of-type {\n",
       "        vertical-align: middle;\n",
       "    }\n",
       "\n",
       "    .dataframe tbody tr th {\n",
       "        vertical-align: top;\n",
       "    }\n",
       "\n",
       "    .dataframe thead th {\n",
       "        text-align: right;\n",
       "    }\n",
       "</style>\n",
       "<table border=\"1\" class=\"dataframe\">\n",
       "  <thead>\n",
       "    <tr style=\"text-align: right;\">\n",
       "      <th></th>\n",
       "      <th>Country Name</th>\n",
       "      <th>Country Code</th>\n",
       "      <th>Year</th>\n",
       "      <th>Value</th>\n",
       "    </tr>\n",
       "  </thead>\n",
       "  <tbody>\n",
       "    <tr>\n",
       "      <th>0</th>\n",
       "      <td>Arab World</td>\n",
       "      <td>ARB</td>\n",
       "      <td>1968</td>\n",
       "      <td>2.576068e+10</td>\n",
       "    </tr>\n",
       "    <tr>\n",
       "      <th>1</th>\n",
       "      <td>Arab World</td>\n",
       "      <td>ARB</td>\n",
       "      <td>1969</td>\n",
       "      <td>2.843420e+10</td>\n",
       "    </tr>\n",
       "    <tr>\n",
       "      <th>2</th>\n",
       "      <td>Arab World</td>\n",
       "      <td>ARB</td>\n",
       "      <td>1970</td>\n",
       "      <td>3.138550e+10</td>\n",
       "    </tr>\n",
       "    <tr>\n",
       "      <th>3</th>\n",
       "      <td>Arab World</td>\n",
       "      <td>ARB</td>\n",
       "      <td>1971</td>\n",
       "      <td>3.642691e+10</td>\n",
       "    </tr>\n",
       "    <tr>\n",
       "      <th>4</th>\n",
       "      <td>Arab World</td>\n",
       "      <td>ARB</td>\n",
       "      <td>1972</td>\n",
       "      <td>4.331606e+10</td>\n",
       "    </tr>\n",
       "  </tbody>\n",
       "</table>\n",
       "</div>"
      ],
      "text/plain": [
       "  Country Name Country Code  Year         Value\n",
       "0   Arab World          ARB  1968  2.576068e+10\n",
       "1   Arab World          ARB  1969  2.843420e+10\n",
       "2   Arab World          ARB  1970  3.138550e+10\n",
       "3   Arab World          ARB  1971  3.642691e+10\n",
       "4   Arab World          ARB  1972  4.331606e+10"
      ]
     },
     "execution_count": 165,
     "metadata": {},
     "output_type": "execute_result"
    }
   ],
   "source": [
    "df.head()"
   ]
  },
  {
   "cell_type": "code",
   "execution_count": 167,
   "id": "47583005-dbe7-4a10-b108-4a41ec1966b5",
   "metadata": {},
   "outputs": [
    {
     "name": "stdout",
     "output_type": "stream",
     "text": [
      "<class 'pandas.core.frame.DataFrame'>\n",
      "RangeIndex: 11507 entries, 0 to 11506\n",
      "Data columns (total 4 columns):\n",
      " #   Column        Non-Null Count  Dtype  \n",
      "---  ------        --------------  -----  \n",
      " 0   Country Name  11507 non-null  object \n",
      " 1   Country Code  11507 non-null  object \n",
      " 2   Year          11507 non-null  int64  \n",
      " 3   Value         11507 non-null  float64\n",
      "dtypes: float64(1), int64(1), object(2)\n",
      "memory usage: 359.7+ KB\n"
     ]
    }
   ],
   "source": [
    "df.info()"
   ]
  },
  {
   "cell_type": "code",
   "execution_count": 169,
   "id": "4bef7b16-61eb-41a9-aeba-4d6a0e74b0c2",
   "metadata": {},
   "outputs": [
    {
     "data": {
      "text/plain": [
       "Country Name    0\n",
       "Country Code    0\n",
       "Year            0\n",
       "Value           0\n",
       "dtype: int64"
      ]
     },
     "execution_count": 169,
     "metadata": {},
     "output_type": "execute_result"
    }
   ],
   "source": [
    "df.isnull().sum()"
   ]
  },
  {
   "cell_type": "code",
   "execution_count": 171,
   "id": "2f134642-4e57-48a0-a584-04ab31c3abc9",
   "metadata": {},
   "outputs": [
    {
     "data": {
      "text/plain": [
       "count                    11507\n",
       "unique                     256\n",
       "top       Hong Kong SAR, China\n",
       "freq                        57\n",
       "Name: Country Name, dtype: object"
      ]
     },
     "execution_count": 171,
     "metadata": {},
     "output_type": "execute_result"
    }
   ],
   "source": [
    "df[\"Country Name\"].describe()"
   ]
  },
  {
   "cell_type": "code",
   "execution_count": 173,
   "id": "892d8e1a-a884-4d01-a719-eeff08d118ca",
   "metadata": {},
   "outputs": [
    {
     "data": {
      "text/plain": [
       "count     11507\n",
       "unique      256\n",
       "top         HKG\n",
       "freq         57\n",
       "Name: Country Code, dtype: object"
      ]
     },
     "execution_count": 173,
     "metadata": {},
     "output_type": "execute_result"
    }
   ],
   "source": [
    "df[\"Country Code\"].describe()"
   ]
  },
  {
   "cell_type": "code",
   "execution_count": 175,
   "id": "09efca00-780f-4573-8aa9-ae121bb03c30",
   "metadata": {},
   "outputs": [
    {
     "data": {
      "text/plain": [
       "count    11507.000000\n",
       "mean      1991.265230\n",
       "std         15.886648\n",
       "min       1960.000000\n",
       "25%       1978.000000\n",
       "50%       1993.000000\n",
       "75%       2005.000000\n",
       "max       2016.000000\n",
       "Name: Year, dtype: float64"
      ]
     },
     "execution_count": 175,
     "metadata": {},
     "output_type": "execute_result"
    }
   ],
   "source": [
    "df[\"Year\"].describe()"
   ]
  },
  {
   "cell_type": "markdown",
   "id": "a03ba230-4de2-47cd-8d30-3e2f55d4eb6c",
   "metadata": {},
   "source": [
    "## Analysing Arab-World"
   ]
  },
  {
   "cell_type": "code",
   "execution_count": 178,
   "id": "b27ed339-c224-40bc-a72d-59303e2f0561",
   "metadata": {},
   "outputs": [],
   "source": [
    "df_pr=df[df[\"Country Name\"]==\"Arab World\"]"
   ]
  },
  {
   "cell_type": "code",
   "execution_count": 180,
   "id": "1f28db14-3830-4f70-b854-c620de92ade3",
   "metadata": {},
   "outputs": [
    {
     "data": {
      "text/plain": [
       "<Axes: xlabel='Year', ylabel='Growth-in-GDP'>"
      ]
     },
     "execution_count": 180,
     "metadata": {},
     "output_type": "execute_result"
    },
    {
     "data": {
      "image/png": "[encoded data removed]",
      "text/plain": [
       "<Figure size 1500x600 with 1 Axes>"
      ]
     },
     "metadata": {},
     "output_type": "display_data"
    }
   ],
   "source": [
    "df_pr.plot(kind=\"line\",x=\"Year\",y=\"Value\",figsize=(15,6),grid=True,legend=True,ylabel=\"Growth-in-GDP\")"
   ]
  },
  {
   "cell_type": "code",
   "execution_count": 182,
   "id": "d210f69b-663d-4608-9176-433c8d0d3dbf",
   "metadata": {},
   "outputs": [],
   "source": [
    "df_pr=df[df[\"Country Name\"]==\"Arab World\"]\n",
    "data=df_pr.values\n",
    "GDP_chng=[0]\n",
    "for i in range (1,len(data)):\n",
    "    prev=data[i-1][3]\n",
    "    cur=data[i][3]\n",
    "    GDP_chng.append(round(((cur-prev)/prev)*100,2))\n",
    "df_pr=df_pr.assign(GDP=GDP_chng)"
   ]
  },
  {
   "cell_type": "markdown",
   "id": "f908aa64-3801-4811-bd8e-e9a30f99f1f9",
   "metadata": {},
   "source": [
    "## GDP Growth of every country"
   ]
  },
  {
   "cell_type": "code",
   "execution_count": 185,
   "id": "f7e73e75-daa1-44dd-816c-3daffb70fea9",
   "metadata": {},
   "outputs": [],
   "source": [
    "final_data=[]\n",
    "for cn in df[\"Country Name\"].unique():\n",
    "    df_pr=df[df[\"Country Name\"]==cn]\n",
    "    data=df_pr.values\n",
    "    GDP_chng=[0]\n",
    "    for i in range (1,len(data)):\n",
    "        prev=data[i-1][3]\n",
    "        cur=data[i][3]\n",
    "        GDP_chng.append(round(((cur-prev)/prev)*100,2))\n",
    "    df_pr=df_pr.assign(GDP=GDP_chng)\n",
    "    final_data.append(df_pr)"
   ]
  },
  {
   "cell_type": "code",
   "execution_count": 186,
   "id": "fa8c4ad5-517e-4bb7-83fe-8d1aa1f40363",
   "metadata": {},
   "outputs": [],
   "source": [
    "df=pd.concat(final_data,axis=0)"
   ]
  },
  {
   "cell_type": "code",
   "execution_count": 189,
   "id": "df1bb810-b780-48c5-b0e1-19a73d0f9d31",
   "metadata": {},
   "outputs": [
    {
     "data": {
      "text/html": [
       "<div>\n",
       "<style scoped>\n",
       "    .dataframe tbody tr th:only-of-type {\n",
       "        vertical-align: middle;\n",
       "    }\n",
       "\n",
       "    .dataframe tbody tr th {\n",
       "        vertical-align: top;\n",
       "    }\n",
       "\n",
       "    .dataframe thead th {\n",
       "        text-align: right;\n",
       "    }\n",
       "</style>\n",
       "<table border=\"1\" class=\"dataframe\">\n",
       "  <thead>\n",
       "    <tr style=\"text-align: right;\">\n",
       "      <th></th>\n",
       "      <th>Country Name</th>\n",
       "      <th>Country Code</th>\n",
       "      <th>Year</th>\n",
       "      <th>Value</th>\n",
       "      <th>GDP</th>\n",
       "    </tr>\n",
       "  </thead>\n",
       "  <tbody>\n",
       "    <tr>\n",
       "      <th>0</th>\n",
       "      <td>Arab World</td>\n",
       "      <td>ARB</td>\n",
       "      <td>1968</td>\n",
       "      <td>2.576068e+10</td>\n",
       "      <td>0.00</td>\n",
       "    </tr>\n",
       "    <tr>\n",
       "      <th>1</th>\n",
       "      <td>Arab World</td>\n",
       "      <td>ARB</td>\n",
       "      <td>1969</td>\n",
       "      <td>2.843420e+10</td>\n",
       "      <td>10.38</td>\n",
       "    </tr>\n",
       "    <tr>\n",
       "      <th>2</th>\n",
       "      <td>Arab World</td>\n",
       "      <td>ARB</td>\n",
       "      <td>1970</td>\n",
       "      <td>3.138550e+10</td>\n",
       "      <td>10.38</td>\n",
       "    </tr>\n",
       "    <tr>\n",
       "      <th>3</th>\n",
       "      <td>Arab World</td>\n",
       "      <td>ARB</td>\n",
       "      <td>1971</td>\n",
       "      <td>3.642691e+10</td>\n",
       "      <td>16.06</td>\n",
       "    </tr>\n",
       "    <tr>\n",
       "      <th>4</th>\n",
       "      <td>Arab World</td>\n",
       "      <td>ARB</td>\n",
       "      <td>1972</td>\n",
       "      <td>4.331606e+10</td>\n",
       "      <td>18.91</td>\n",
       "    </tr>\n",
       "  </tbody>\n",
       "</table>\n",
       "</div>"
      ],
      "text/plain": [
       "  Country Name Country Code  Year         Value    GDP\n",
       "0   Arab World          ARB  1968  2.576068e+10   0.00\n",
       "1   Arab World          ARB  1969  2.843420e+10  10.38\n",
       "2   Arab World          ARB  1970  3.138550e+10  10.38\n",
       "3   Arab World          ARB  1971  3.642691e+10  16.06\n",
       "4   Arab World          ARB  1972  4.331606e+10  18.91"
      ]
     },
     "execution_count": 189,
     "metadata": {},
     "output_type": "execute_result"
    }
   ],
   "source": [
    "df.head()"
   ]
  },
  {
   "cell_type": "code",
   "execution_count": 191,
   "id": "c8a782d5-f648-47e3-8cc7-96ee2e788a63",
   "metadata": {},
   "outputs": [
    {
     "data": {
      "text/plain": [
       "Country Name\n",
       "Cayman Islands              108.380000\n",
       "Equatorial Guinea            22.312453\n",
       "Nauru                        20.650000\n",
       "Iraq                         18.075854\n",
       "Oman                         17.681154\n",
       "                               ...    \n",
       "Barbados                      3.109259\n",
       "San Marino                    2.148333\n",
       "American Samoa                1.937333\n",
       "Northern Mariana Islands      0.338667\n",
       "South Sudan                  -3.166250\n",
       "Name: GDP, Length: 256, dtype: float64"
      ]
     },
     "execution_count": 191,
     "metadata": {},
     "output_type": "execute_result"
    }
   ],
   "source": [
    "df.groupby(\"Country Name\")[\"GDP\"].mean().sort_values(ascending=False)"
   ]
  },
  {
   "cell_type": "code",
   "execution_count": 193,
   "id": "0667f888-1950-4954-a797-d5661db17727",
   "metadata": {},
   "outputs": [
    {
     "data": {
      "text/plain": [
       "Country Name\n",
       "World                        7.904923e+13\n",
       "High income                  5.036240e+13\n",
       "OECD members                 4.937008e+13\n",
       "Post-demographic dividend    4.673504e+13\n",
       "IDA & IBRD total             2.948247e+13\n",
       "Low & middle income          2.870476e+13\n",
       "Middle income                2.829277e+13\n",
       "IBRD only                    2.739661e+13\n",
       "Europe & Central Asia        2.365470e+13\n",
       "East Asia & Pacific          2.248043e+13\n",
       "Name: Value, dtype: float64"
      ]
     },
     "execution_count": 193,
     "metadata": {},
     "output_type": "execute_result"
    }
   ],
   "source": [
    "df.groupby(\"Country Name\")[\"Value\"].max().sort_values(ascending=False).head(10)"
   ]
  },
  {
   "cell_type": "code",
   "execution_count": 195,
   "id": "726a986a-5e03-400d-b70d-b1c26112e814",
   "metadata": {},
   "outputs": [
    {
     "data": {
      "text/plain": [
       "'World GDP.html'"
      ]
     },
     "execution_count": 195,
     "metadata": {},
     "output_type": "execute_result"
    }
   ],
   "source": [
    "df_pr=df[df[\"Country Name\"]==\"World\"]\n",
    "fig=px.line(df_pr,x=\"Year\",y=\"Value\",title=\"World GDP Analysis\")\n",
    "fig\n",
    "pyo.plot(fig,filename=\"World GDP.html\")"
   ]
  },
  {
   "cell_type": "code",
   "execution_count": 196,
   "id": "7f2f93c8-9b2f-41d5-9218-1d2532d03358",
   "metadata": {},
   "outputs": [
    {
     "data": {
      "text/plain": [
       "'India.html'"
      ]
     },
     "execution_count": 196,
     "metadata": {},
     "output_type": "execute_result"
    }
   ],
   "source": [
    "df_pr=df[df[\"Country Name\"]==\"India\"]\n",
    "fig=px.line(df_pr,x=\"Year\",y=\"Value\",title=\"World GDP Analysis\")\n",
    "fig\n",
    "pyo.plot(fig,filename=\"India.html\")"
   ]
  },
  {
   "cell_type": "code",
   "execution_count": 199,
   "id": "0c75d43a-58bf-471e-a53e-76a8fb3d5c9b",
   "metadata": {},
   "outputs": [
    {
     "data": {
      "text/plain": [
       "'Indai-World.html'"
      ]
     },
     "execution_count": 199,
     "metadata": {},
     "output_type": "execute_result"
    }
   ],
   "source": [
    "df_pr=df[df[\"Country Name\"]==\"India\"]\n",
    "fig=px.line(df_pr,x=\"Year\",y=\"Value\",title=\"Indai v/s World GDP Analysis\",range_y=[0,80000000000000])\n",
    "fig\n",
    "pyo.plot(fig,filename=\"Indai-World.html\")"
   ]
  },
  {
   "cell_type": "markdown",
   "id": "0da1b1ea-1e50-4a3b-a3c9-b91d9f176656",
   "metadata": {},
   "source": [
    "## Plotting graphs in bulk"
   ]
  },
  {
   "cell_type": "markdown",
   "id": "955a3138-d6a2-4150-877d-58c61190088d",
   "metadata": {},
   "source": [
    "### made a dir GDP Individual and storing all the graphs into that dir automatically by giving the path in filename \n"
   ]
  },
  {
   "cell_type": "code",
   "execution_count": 204,
   "id": "af88131f-668b-44d2-9bcd-e16f93b06c48",
   "metadata": {},
   "outputs": [],
   "source": [
    "os.mkdir(\"GDP Individual\")\n",
    "for cnt_name in df[\"Country Name\"].unique():\n",
    "    \n",
    "    df_pr=df[df[\"Country Name\"]==cnt_name]\n",
    "    fig=px.line(df_pr,x=\"Year\",y=\"Value\",title=cnt_name+\" GDP Analysis\")\n",
    "    pyo.plot(fig,filename=\"GDP Individual/\"+cnt_name+\".html\",auto_open=False)"
   ]
  },
  {
   "cell_type": "markdown",
   "id": "94fe5393-9389-4639-8fd4-b2142bd1eda2",
   "metadata": {},
   "source": [
    "### can make the graphs wrt any range just add the range_y in the fig braces"
   ]
  },
  {
   "cell_type": "markdown",
   "id": "44c9e523-aa90-4252-816d-2d34f755dfd3",
   "metadata": {},
   "source": [
    "## GDP of all country w.r.t world"
   ]
  },
  {
   "cell_type": "code",
   "execution_count": 218,
   "id": "617e10d9-e44c-49cd-aea8-d3fcddd28767",
   "metadata": {},
   "outputs": [
    {
     "data": {
      "text/plain": [
       "'GDP Analysis of all countries.html'"
      ]
     },
     "execution_count": 218,
     "metadata": {},
     "output_type": "execute_result"
    }
   ],
   "source": [
    "fig=px.line(df,x=\"Year\",y=\"Value\",title=\"GDP Analysis of all countries\",color=\"Country Name\")\n",
    "pyo.plot(fig,filename=\"GDP Analysis of all countries.html\")"
   ]
  },
  {
   "cell_type": "markdown",
   "id": "38854134-5544-4339-afc5-0fff7fb02f92",
   "metadata": {},
   "source": [
    "## GDP Analysis b/w India & China"
   ]
  },
  {
   "cell_type": "code",
   "execution_count": 220,
   "id": "6473cdfc-3d3b-4ae4-9b73-cefbe9531f9f",
   "metadata": {},
   "outputs": [],
   "source": [
    "c1=df[df[\"Country Name\"]==\"India\"]\n",
    "c2=df[df[\"Country Name\"]==\"China\"]"
   ]
  },
  {
   "cell_type": "code",
   "execution_count": 224,
   "id": "cd01352e-f1a7-4623-baf1-faee343b7fd3",
   "metadata": {},
   "outputs": [],
   "source": [
    "df_pr=pd.concat([c1,c2],axis=0)"
   ]
  },
  {
   "cell_type": "code",
   "execution_count": 235,
   "id": "5adbbf1e-6636-40ba-ab01-9dd33d0da89a",
   "metadata": {},
   "outputs": [
    {
     "data": {
      "text/plain": [
       "'GDP Analysis India & China.html'"
      ]
     },
     "execution_count": 235,
     "metadata": {},
     "output_type": "execute_result"
    }
   ],
   "source": [
    "fig=px.line(df_pr,x=\"Year\",y=\"Value\",title=\"GDP Analysis b/w India & China\",color=\"Country Name\")\n",
    "pyo.plot(fig,filename=\"GDP Analysis India & China.html\")"
   ]
  },
  {
   "cell_type": "code",
   "execution_count": 237,
   "id": "0139fcd7-2b58-46b6-b83e-7570521dcdc7",
   "metadata": {},
   "outputs": [],
   "source": [
    "lst=['IND','ITA','USA','CHN']"
   ]
  },
  {
   "cell_type": "code",
   "execution_count": 245,
   "id": "5db18aa2-268b-4ba7-94ce-d22b9db8b55c",
   "metadata": {},
   "outputs": [],
   "source": [
    "dfs=[]\n",
    "for i in lst:\n",
    "    dfs.append(df[df[\"Country Code\"]==i])\n",
    "    dfs_pr=pd.concat(dfs,axis=0)"
   ]
  },
  {
   "cell_type": "code",
   "execution_count": 253,
   "id": "339d6bb3-dbf7-4a2d-9b95-1cc39773833b",
   "metadata": {},
   "outputs": [
    {
     "data": {
      "text/plain": [
       "'GDP Analysis.html'"
      ]
     },
     "execution_count": 253,
     "metadata": {},
     "output_type": "execute_result"
    }
   ],
   "source": [
    "fig=px.line(dfs_pr,x=\"Year\",y=\"Value\",title=\"GDP Comparison - \"+\"|\".join(lst),color=\"Country Name\")\n",
    "pyo.plot(fig,filename=\"GDP Analysis.html\")"
   ]
  },
  {
   "cell_type": "code",
   "execution_count": 263,
   "id": "157d0a69-4ed8-471a-961a-891f8d219a95",
   "metadata": {},
   "outputs": [],
   "source": [
    "def compare_gdp(lst,isopen):\n",
    "    dfs=[]\n",
    "    for i in lst:\n",
    "        dfs.append(df[df[\"Country Code\"]==i])\n",
    "        dfs_pr=pd.concat(dfs,axis=0)\n",
    "\n",
    "    fig=px.line(dfs_pr,x=\"Year\",y=\"Value\",title=\"GDP Comparison - \"+\"|\".join(lst),color=\"Country Name\")\n",
    "    pyo.plot(fig,filename=\"GDP Analysis.html\",auto_open=isopen)"
   ]
  },
  {
   "cell_type": "code",
   "execution_count": 265,
   "id": "c09de439-483e-48c8-b14f-e356390dc226",
   "metadata": {},
   "outputs": [],
   "source": [
    "compare_gdp([\"IND\",\"ITA\",\"USA\"],False)"
   ]
  },
  {
   "cell_type": "code",
   "execution_count": 267,
   "id": "e2553dc8-ec52-4bd0-af28-12826f76c9ff",
   "metadata": {},
   "outputs": [],
   "source": [
    "def compare_gdp(lst,isopen):\n",
    "    dfs=[]\n",
    "    for i in lst:\n",
    "        dfs.append(df[df[\"Country Code\"]==i])\n",
    "        dfs_pr=pd.concat(dfs,axis=0)\n",
    "\n",
    "    fig=px.line(dfs_pr,x=\"Year\",y=\"GDP\",title=\"GDP Comparison - \"+\"|\".join(lst),color=\"Country Name\")\n",
    "    pyo.plot(fig,filename=\"GDP Analysis.html\",auto_open=isopen)"
   ]
  },
  {
   "cell_type": "code",
   "execution_count": 271,
   "id": "42c3bd60-f442-4818-af26-0ed50cc5aad5",
   "metadata": {},
   "outputs": [],
   "source": [
    "compare_gdp([\"IND\",\"ITA\",\"USA\"],True)"
   ]
  },
  {
   "cell_type": "code",
   "execution_count": 277,
   "id": "e0e67cc7-196d-4fa3-9170-721f97cca802",
   "metadata": {},
   "outputs": [
    {
     "data": {
      "text/plain": [
       "'GDP Comparison.html'"
      ]
     },
     "execution_count": 277,
     "metadata": {},
     "output_type": "execute_result"
    }
   ],
   "source": [
    "fig=px.line(df,x=\"Year\",y=\"GDP\",title=\"GDP Comparisons\",color=\"Country Name\")\n",
    "pyo.plot(fig,filename=\"GDP Comparison.html\",auto_open=True)"
   ]
  },
  {
   "cell_type": "markdown",
   "id": "b6f4e95c-dcc3-4003-8571-870f810f0569",
   "metadata": {},
   "source": [
    "## GDP growth b/w 1960-2016"
   ]
  },
  {
   "cell_type": "code",
   "execution_count": 284,
   "id": "ae2dd782-1088-4d69-a772-7e5af6a5865d",
   "metadata": {},
   "outputs": [],
   "source": [
    "dfs=[]\n",
    "\n",
    "for cnt_name in df[\"Country Name\"].unique():\n",
    "    df_pr=df[df[\"Country Name\"]==cnt_name]\n",
    "    if(len(df_pr)==57):\n",
    "        dfs.append(df_pr)\n",
    "df_pr=pd.concat(dfs,axis=0)"
   ]
  },
  {
   "cell_type": "code",
   "execution_count": 286,
   "id": "de48e8ca-0b5d-41c6-82ea-86c99b909a5a",
   "metadata": {},
   "outputs": [
    {
     "data": {
      "text/html": [
       "<div>\n",
       "<style scoped>\n",
       "    .dataframe tbody tr th:only-of-type {\n",
       "        vertical-align: middle;\n",
       "    }\n",
       "\n",
       "    .dataframe tbody tr th {\n",
       "        vertical-align: top;\n",
       "    }\n",
       "\n",
       "    .dataframe thead th {\n",
       "        text-align: right;\n",
       "    }\n",
       "</style>\n",
       "<table border=\"1\" class=\"dataframe\">\n",
       "  <thead>\n",
       "    <tr style=\"text-align: right;\">\n",
       "      <th></th>\n",
       "      <th>Country Name</th>\n",
       "      <th>Country Code</th>\n",
       "      <th>Year</th>\n",
       "      <th>Value</th>\n",
       "      <th>GDP</th>\n",
       "    </tr>\n",
       "  </thead>\n",
       "  <tbody>\n",
       "    <tr>\n",
       "      <th>49</th>\n",
       "      <td>Caribbean small states</td>\n",
       "      <td>CSS</td>\n",
       "      <td>1960</td>\n",
       "      <td>2.004785e+09</td>\n",
       "      <td>0.00</td>\n",
       "    </tr>\n",
       "    <tr>\n",
       "      <th>50</th>\n",
       "      <td>Caribbean small states</td>\n",
       "      <td>CSS</td>\n",
       "      <td>1961</td>\n",
       "      <td>2.169733e+09</td>\n",
       "      <td>8.23</td>\n",
       "    </tr>\n",
       "    <tr>\n",
       "      <th>51</th>\n",
       "      <td>Caribbean small states</td>\n",
       "      <td>CSS</td>\n",
       "      <td>1962</td>\n",
       "      <td>2.289495e+09</td>\n",
       "      <td>5.52</td>\n",
       "    </tr>\n",
       "    <tr>\n",
       "      <th>52</th>\n",
       "      <td>Caribbean small states</td>\n",
       "      <td>CSS</td>\n",
       "      <td>1963</td>\n",
       "      <td>2.431592e+09</td>\n",
       "      <td>6.21</td>\n",
       "    </tr>\n",
       "    <tr>\n",
       "      <th>53</th>\n",
       "      <td>Caribbean small states</td>\n",
       "      <td>CSS</td>\n",
       "      <td>1964</td>\n",
       "      <td>2.626896e+09</td>\n",
       "      <td>8.03</td>\n",
       "    </tr>\n",
       "    <tr>\n",
       "      <th>...</th>\n",
       "      <td>...</td>\n",
       "      <td>...</td>\n",
       "      <td>...</td>\n",
       "      <td>...</td>\n",
       "      <td>...</td>\n",
       "    </tr>\n",
       "    <tr>\n",
       "      <th>11502</th>\n",
       "      <td>Zimbabwe</td>\n",
       "      <td>ZWE</td>\n",
       "      <td>2012</td>\n",
       "      <td>1.424249e+10</td>\n",
       "      <td>17.72</td>\n",
       "    </tr>\n",
       "    <tr>\n",
       "      <th>11503</th>\n",
       "      <td>Zimbabwe</td>\n",
       "      <td>ZWE</td>\n",
       "      <td>2013</td>\n",
       "      <td>1.545177e+10</td>\n",
       "      <td>8.49</td>\n",
       "    </tr>\n",
       "    <tr>\n",
       "      <th>11504</th>\n",
       "      <td>Zimbabwe</td>\n",
       "      <td>ZWE</td>\n",
       "      <td>2014</td>\n",
       "      <td>1.589105e+10</td>\n",
       "      <td>2.84</td>\n",
       "    </tr>\n",
       "    <tr>\n",
       "      <th>11505</th>\n",
       "      <td>Zimbabwe</td>\n",
       "      <td>ZWE</td>\n",
       "      <td>2015</td>\n",
       "      <td>1.630467e+10</td>\n",
       "      <td>2.60</td>\n",
       "    </tr>\n",
       "    <tr>\n",
       "      <th>11506</th>\n",
       "      <td>Zimbabwe</td>\n",
       "      <td>ZWE</td>\n",
       "      <td>2016</td>\n",
       "      <td>1.661996e+10</td>\n",
       "      <td>1.93</td>\n",
       "    </tr>\n",
       "  </tbody>\n",
       "</table>\n",
       "<p>6840 rows × 5 columns</p>\n",
       "</div>"
      ],
      "text/plain": [
       "                 Country Name Country Code  Year         Value    GDP\n",
       "49     Caribbean small states          CSS  1960  2.004785e+09   0.00\n",
       "50     Caribbean small states          CSS  1961  2.169733e+09   8.23\n",
       "51     Caribbean small states          CSS  1962  2.289495e+09   5.52\n",
       "52     Caribbean small states          CSS  1963  2.431592e+09   6.21\n",
       "53     Caribbean small states          CSS  1964  2.626896e+09   8.03\n",
       "...                       ...          ...   ...           ...    ...\n",
       "11502                Zimbabwe          ZWE  2012  1.424249e+10  17.72\n",
       "11503                Zimbabwe          ZWE  2013  1.545177e+10   8.49\n",
       "11504                Zimbabwe          ZWE  2014  1.589105e+10   2.84\n",
       "11505                Zimbabwe          ZWE  2015  1.630467e+10   2.60\n",
       "11506                Zimbabwe          ZWE  2016  1.661996e+10   1.93\n",
       "\n",
       "[6840 rows x 5 columns]"
      ]
     },
     "execution_count": 286,
     "metadata": {},
     "output_type": "execute_result"
    }
   ],
   "source": [
    "df_pr"
   ]
  },
  {
   "cell_type": "code",
   "execution_count": 288,
   "id": "869b629b-4f80-46d3-92cc-614c0362b261",
   "metadata": {},
   "outputs": [
    {
     "data": {
      "text/plain": [
       "'GDP Growth.html'"
      ]
     },
     "execution_count": 288,
     "metadata": {},
     "output_type": "execute_result"
    }
   ],
   "source": [
    "fig=px.line(df_pr,x=\"Year\",y=\"GDP\",title=\"GDP Growth\",color=\"Country Name\")\n",
    "pyo.plot(fig,filename=\"GDP Growth.html\",auto_open=True)"
   ]
  },
  {
   "cell_type": "code",
   "execution_count": null,
   "id": "8e40b931-32f8-444a-8459-6ddaf7492275",
   "metadata": {},
   "outputs": [],
   "source": []
  },
  {
   "cell_type": "code",
   "execution_count": 202,
   "id": "ccb747ed-ac4c-4e64-b385-d6faa8c942ff",
   "metadata": {},
   "outputs": [
    {
     "data": {
      "text/html": [
       "<div>\n",
       "<style scoped>\n",
       "    .dataframe tbody tr th:only-of-type {\n",
       "        vertical-align: middle;\n",
       "    }\n",
       "\n",
       "    .dataframe tbody tr th {\n",
       "        vertical-align: top;\n",
       "    }\n",
       "\n",
       "    .dataframe thead th {\n",
       "        text-align: right;\n",
       "    }\n",
       "</style>\n",
       "<table border=\"1\" class=\"dataframe\">\n",
       "  <thead>\n",
       "    <tr style=\"text-align: right;\">\n",
       "      <th></th>\n",
       "      <th>Country Name</th>\n",
       "      <th>Country Code</th>\n",
       "      <th>Year</th>\n",
       "      <th>Value</th>\n",
       "      <th>GDP</th>\n",
       "    </tr>\n",
       "  </thead>\n",
       "  <tbody>\n",
       "    <tr>\n",
       "      <th>0</th>\n",
       "      <td>Arab World</td>\n",
       "      <td>ARB</td>\n",
       "      <td>1968</td>\n",
       "      <td>2.576068e+10</td>\n",
       "      <td>0.00</td>\n",
       "    </tr>\n",
       "    <tr>\n",
       "      <th>1</th>\n",
       "      <td>Arab World</td>\n",
       "      <td>ARB</td>\n",
       "      <td>1969</td>\n",
       "      <td>2.843420e+10</td>\n",
       "      <td>10.38</td>\n",
       "    </tr>\n",
       "    <tr>\n",
       "      <th>2</th>\n",
       "      <td>Arab World</td>\n",
       "      <td>ARB</td>\n",
       "      <td>1970</td>\n",
       "      <td>3.138550e+10</td>\n",
       "      <td>10.38</td>\n",
       "    </tr>\n",
       "    <tr>\n",
       "      <th>3</th>\n",
       "      <td>Arab World</td>\n",
       "      <td>ARB</td>\n",
       "      <td>1971</td>\n",
       "      <td>3.642691e+10</td>\n",
       "      <td>16.06</td>\n",
       "    </tr>\n",
       "    <tr>\n",
       "      <th>4</th>\n",
       "      <td>Arab World</td>\n",
       "      <td>ARB</td>\n",
       "      <td>1972</td>\n",
       "      <td>4.331606e+10</td>\n",
       "      <td>18.91</td>\n",
       "    </tr>\n",
       "  </tbody>\n",
       "</table>\n",
       "</div>"
      ],
      "text/plain": [
       "  Country Name Country Code  Year         Value    GDP\n",
       "0   Arab World          ARB  1968  2.576068e+10   0.00\n",
       "1   Arab World          ARB  1969  2.843420e+10  10.38\n",
       "2   Arab World          ARB  1970  3.138550e+10  10.38\n",
       "3   Arab World          ARB  1971  3.642691e+10  16.06\n",
       "4   Arab World          ARB  1972  4.331606e+10  18.91"
      ]
     },
     "execution_count": 202,
     "metadata": {},
     "output_type": "execute_result"
    }
   ],
   "source": [
    "df.head()"
   ]
  },
  {
   "cell_type": "code",
   "execution_count": null,
   "id": "aac3861e-b110-4323-a31d-4313f99d1d93",
   "metadata": {},
   "outputs": [],
   "source": []
  }
 ],
 "metadata": {
  "kernelspec": {
   "display_name": "Python 3 (ipykernel)",
   "language": "python",
   "name": "python3"
  },
  "language_info": {
   "codemirror_mode": {
    "name": "ipython",
    "version": 3
   },
   "file_extension": ".py",
   "mimetype": "text/x-python",
   "name": "python",
   "nbconvert_exporter": "python",
   "pygments_lexer": "ipython3",
   "version": "3.11.7"
  }
 },
 "nbformat": 4,
 "nbformat_minor": 5
}
